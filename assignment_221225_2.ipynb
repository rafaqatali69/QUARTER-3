{
  "nbformat": 4,
  "nbformat_minor": 0,
  "metadata": {
    "colab": {
      "private_outputs": true,
      "provenance": [],
      "toc_visible": true,
      "authorship_tag": "ABX9TyPsORYgNLGieGlLUgkyz/8e",
      "include_colab_link": true
    },
    "kernelspec": {
      "name": "python3",
      "display_name": "Python 3"
    },
    "language_info": {
      "name": "python"
    }
  },
  "cells": [
    {
      "cell_type": "markdown",
      "metadata": {
        "id": "view-in-github",
        "colab_type": "text"
      },
      "source": [
        "<a href=\"https://colab.research.google.com/github/rafaqatali69/QUARTER-3/blob/main/assignment_221225_2.ipynb\" target=\"_parent\"><img src=\"https://colab.research.google.com/assets/colab-badge.svg\" alt=\"Open In Colab\"/></a>"
      ]
    },
    {
      "cell_type": "code",
      "execution_count": null,
      "metadata": {
        "id": "hA9q5FVCHRYa"
      },
      "outputs": [],
      "source": [
        "!pip install --upgrade --quiet google-genai"
      ]
    },
    {
      "cell_type": "code",
      "source": [
        "from google.colab import userdata\n",
        "GEMINI_API_KEY:str=userdata.get('GOOGLE_API_KEY')\n",
        "#if('GEMINI_API_KEY'):\n",
        "#print(\"KEY FOUND\")\n",
        "#else\n",
        "#print(\"KEY NOT FOUND\")"
      ],
      "metadata": {
        "id": "4dnbBSOAIKol"
      },
      "execution_count": null,
      "outputs": []
    },
    {
      "cell_type": "code",
      "source": [
        "if('GEMINI_API_KEY'):\n",
        "    print(\"KEY FOUND\")\n",
        "else:\n",
        "  print(\"KEY NOT FOUND\")"
      ],
      "metadata": {
        "id": "9jSaDPLrJPGD"
      },
      "execution_count": null,
      "outputs": []
    },
    {
      "cell_type": "code",
      "source": [
        "from google import genai\n",
        "from google.genai import client\n",
        "client:client=genai.Client(api_key=GEMINI_API_KEY)"
      ],
      "metadata": {
        "id": "TeEDvYkMLktd"
      },
      "execution_count": null,
      "outputs": []
    },
    {
      "cell_type": "code",
      "source": [
        "model:str=\"gemini-2.0-flash-exp\""
      ],
      "metadata": {
        "id": "YUp1FmzlL2Xb"
      },
      "execution_count": null,
      "outputs": []
    },
    {
      "cell_type": "code",
      "source": [
        "print([attr for attr in dir(client) if not attr.startswith('_')])\n",
        "print([attr for attr in dir(client.models) if not attr.startswith('_')])"
      ],
      "metadata": {
        "id": "JwGug2raPiNF"
      },
      "execution_count": null,
      "outputs": []
    },
    {
      "cell_type": "code",
      "source": [
        "from google.genai.types import GenerateContentResponse\n",
        "from IPython.display import display, Markdown\n",
        "Response: GenerateContentResponse = client.models.generate_content(\n",
        "    model=model,\n",
        "    contents='how does AI work'\n",
        ")\n",
        "generated_text = Response.text\n",
        "display(Markdown(Response.text))"
      ],
      "metadata": {
        "id": "YlVfKoRSSgHu"
      },
      "execution_count": null,
      "outputs": []
    },
    {
      "cell_type": "code",
      "source": [
        "# COUNT TOKEN\n",
        "from google.genai.types import CountTokensResponse\n",
        "Result: CountTokensResponse = client.models.count_tokens(\n",
        "    model=model,\n",
        "    contents='whats the hightest mountain in the worldhow does AI work'\n",
        ")\n",
        "print(Result)"
      ],
      "metadata": {
        "id": "Zd9Swkw9daHv"
      },
      "execution_count": null,
      "outputs": []
    },
    {
      "cell_type": "code",
      "source": [
        "!curl -o image.jpg \"https://i.dawn.com/primary/2014/07/53d4ba719c131.jpg\""
      ],
      "metadata": {
        "id": "RVTh9UOIfe4S"
      },
      "execution_count": null,
      "outputs": []
    },
    {
      "cell_type": "code",
      "source": [
        "import PIL.Image as img\n",
        "img_k2 = img.open('/content/image.jpg')\n",
        "display(img_k2)"
      ],
      "metadata": {
        "id": "ZN4x-_36g2-v"
      },
      "execution_count": null,
      "outputs": []
    },
    {
      "cell_type": "code",
      "source": [
        "prompt = (\"\"\"the brief notes of this k-2 mountain. Features: History, Name the persons who submit it in winter \"\"\")"
      ],
      "metadata": {
        "id": "rkeuVNbTiSZd"
      },
      "execution_count": null,
      "outputs": []
    },
    {
      "cell_type": "code",
      "source": [
        "Response: GenerateContentResponse = client.models.generate_content(\n",
        "    model=model,\n",
        "    contents=[img_k2,prompt]\n",
        ")\n",
        "display(Markdown(Response.text))"
      ],
      "metadata": {
        "id": "SxHUDFuJifo2"
      },
      "execution_count": null,
      "outputs": []
    }
  ]
}