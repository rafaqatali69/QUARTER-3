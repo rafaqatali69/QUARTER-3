{
  "nbformat": 4,
  "nbformat_minor": 0,
  "metadata": {
    "colab": {
      "private_outputs": true,
      "provenance": [],
      "authorship_tag": "ABX9TyMxPnsJnXtV9W9EzpCMoJRM",
      "include_colab_link": true
    },
    "kernelspec": {
      "name": "python3",
      "display_name": "Python 3"
    },
    "language_info": {
      "name": "python"
    }
  },
  "cells": [
    {
      "cell_type": "markdown",
      "metadata": {
        "id": "view-in-github",
        "colab_type": "text"
      },
      "source": [
        "<a href=\"https://colab.research.google.com/github/rafaqatali69/QUARTER-3/blob/main/imageprompt.ipynb\" target=\"_parent\"><img src=\"https://colab.research.google.com/assets/colab-badge.svg\" alt=\"Open In Colab\"/></a>"
      ]
    },
    {
      "cell_type": "code",
      "execution_count": null,
      "metadata": {
        "id": "_P-bJGWXqEV2"
      },
      "outputs": [],
      "source": [
        "!pip install -U -q \"google-generativeai>=0.7.2\" # Install the Python SDK"
      ]
    },
    {
      "cell_type": "code",
      "source": [
        "import google.generativeai as genai"
      ],
      "metadata": {
        "id": "dzxXdUhtrpLp"
      },
      "execution_count": null,
      "outputs": []
    },
    {
      "cell_type": "code",
      "source": [
        "from google.colab import userdata\n",
        "Google_API_KEY = userdata.get('GOOGLE_API_KEY')\n",
        "genai.configure(api_key=Google_API_KEY)"
      ],
      "metadata": {
        "id": "4CRrzmmsr4A6"
      },
      "execution_count": null,
      "outputs": []
    },
    {
      "cell_type": "code",
      "source": [
        "model = genai.GenerativeModel('gemini-1.5-flash-002')\n",
        "response = model.generate_content('What is the Core Business of SNGPL, where the Headoffice located, how many board of directors memeber')\n",
        "print(response.text)"
      ],
      "metadata": {
        "id": "unRXYVcftDe8"
      },
      "execution_count": null,
      "outputs": []
    },
    {
      "cell_type": "code",
      "source": [
        "# Use images in your prompt\n",
        "!curl -o image.jpg \"https://i.dawn.com/primary/2014/07/53d4ba719c131.jpg\""
      ],
      "metadata": {
        "id": "PwJtHyJFvfc2"
      },
      "execution_count": null,
      "outputs": []
    },
    {
      "cell_type": "code",
      "source": [
        "import PIL.Image as img\n",
        "img_k2 = img.open('/content/image.jpg')\n",
        "img_k2"
      ],
      "metadata": {
        "id": "7T1MdNfmwKU7"
      },
      "execution_count": null,
      "outputs": []
    },
    {
      "cell_type": "code",
      "source": [
        "prompt = (\"\"\"image shows world 2nd hightest mountain in the world. Give the brief notes of this mountain. Features: History, Name the persons who submit it in winter \"\"\")"
      ],
      "metadata": {
        "id": "DwVCSmYRy3Kb"
      },
      "execution_count": null,
      "outputs": []
    },
    {
      "cell_type": "code",
      "source": [
        "model = genai.GenerativeModel('gemini-1.5-flash-002')\n",
        "response = model.generate_content([prompt,img_k2])\n",
        "print(response.text)"
      ],
      "metadata": {
        "id": "N7Xk2KcA0ATe"
      },
      "execution_count": null,
      "outputs": []
    }
  ]
}