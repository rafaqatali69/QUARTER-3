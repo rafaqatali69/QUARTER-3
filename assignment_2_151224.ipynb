{
  "nbformat": 4,
  "nbformat_minor": 0,
  "metadata": {
    "colab": {
      "provenance": [],
      "toc_visible": true,
      "authorship_tag": "ABX9TyPo+OhH3j/BNuAn/YqG2s6i",
      "include_colab_link": true
    },
    "kernelspec": {
      "name": "python3",
      "display_name": "Python 3"
    },
    "language_info": {
      "name": "python"
    }
  },
  "cells": [
    {
      "cell_type": "markdown",
      "metadata": {
        "id": "view-in-github",
        "colab_type": "text"
      },
      "source": [
        "<a href=\"https://colab.research.google.com/github/rafaqatali69/QUARTER-3/blob/main/assignment_2_151224.ipynb\" target=\"_parent\"><img src=\"https://colab.research.google.com/assets/colab-badge.svg\" alt=\"Open In Colab\"/></a>"
      ]
    },
    {
      "cell_type": "code",
      "execution_count": null,
      "metadata": {
        "id": "3tQAtnQB56SR"
      },
      "outputs": [],
      "source": [
        "from google.colab import userdata\n",
        "API_KEY=userdata.get('GOOGLE_API_KEY')"
      ]
    },
    {
      "cell_type": "code",
      "source": [
        "!pip install google.generativeai"
      ],
      "metadata": {
        "colab": {
          "base_uri": "https://localhost:8080/"
        },
        "id": "428HH10m8kXw",
        "outputId": "372a22ab-2eff-4c16-cd8a-1ffc453def62"
      },
      "execution_count": 9,
      "outputs": [
        {
          "output_type": "stream",
          "name": "stdout",
          "text": [
            "Requirement already satisfied: google.generativeai in /usr/local/lib/python3.10/dist-packages (0.8.3)\n",
            "Requirement already satisfied: google-ai-generativelanguage==0.6.10 in /usr/local/lib/python3.10/dist-packages (from google.generativeai) (0.6.10)\n",
            "Requirement already satisfied: google-api-core in /usr/local/lib/python3.10/dist-packages (from google.generativeai) (2.19.2)\n",
            "Requirement already satisfied: google-api-python-client in /usr/local/lib/python3.10/dist-packages (from google.generativeai) (2.155.0)\n",
            "Requirement already satisfied: google-auth>=2.15.0 in /usr/local/lib/python3.10/dist-packages (from google.generativeai) (2.27.0)\n",
            "Requirement already satisfied: protobuf in /usr/local/lib/python3.10/dist-packages (from google.generativeai) (4.25.5)\n",
            "Requirement already satisfied: pydantic in /usr/local/lib/python3.10/dist-packages (from google.generativeai) (2.10.3)\n",
            "Requirement already satisfied: tqdm in /usr/local/lib/python3.10/dist-packages (from google.generativeai) (4.67.1)\n",
            "Requirement already satisfied: typing-extensions in /usr/local/lib/python3.10/dist-packages (from google.generativeai) (4.12.2)\n",
            "Requirement already satisfied: proto-plus<2.0.0dev,>=1.22.3 in /usr/local/lib/python3.10/dist-packages (from google-ai-generativelanguage==0.6.10->google.generativeai) (1.25.0)\n",
            "Requirement already satisfied: googleapis-common-protos<2.0.dev0,>=1.56.2 in /usr/local/lib/python3.10/dist-packages (from google-api-core->google.generativeai) (1.66.0)\n",
            "Requirement already satisfied: requests<3.0.0.dev0,>=2.18.0 in /usr/local/lib/python3.10/dist-packages (from google-api-core->google.generativeai) (2.32.3)\n",
            "Requirement already satisfied: cachetools<6.0,>=2.0.0 in /usr/local/lib/python3.10/dist-packages (from google-auth>=2.15.0->google.generativeai) (5.5.0)\n",
            "Requirement already satisfied: pyasn1-modules>=0.2.1 in /usr/local/lib/python3.10/dist-packages (from google-auth>=2.15.0->google.generativeai) (0.4.1)\n",
            "Requirement already satisfied: rsa<5,>=3.1.4 in /usr/local/lib/python3.10/dist-packages (from google-auth>=2.15.0->google.generativeai) (4.9)\n",
            "Requirement already satisfied: httplib2<1.dev0,>=0.19.0 in /usr/local/lib/python3.10/dist-packages (from google-api-python-client->google.generativeai) (0.22.0)\n",
            "Requirement already satisfied: google-auth-httplib2<1.0.0,>=0.2.0 in /usr/local/lib/python3.10/dist-packages (from google-api-python-client->google.generativeai) (0.2.0)\n",
            "Requirement already satisfied: uritemplate<5,>=3.0.1 in /usr/local/lib/python3.10/dist-packages (from google-api-python-client->google.generativeai) (4.1.1)\n",
            "Requirement already satisfied: annotated-types>=0.6.0 in /usr/local/lib/python3.10/dist-packages (from pydantic->google.generativeai) (0.7.0)\n",
            "Requirement already satisfied: pydantic-core==2.27.1 in /usr/local/lib/python3.10/dist-packages (from pydantic->google.generativeai) (2.27.1)\n",
            "Requirement already satisfied: grpcio<2.0dev,>=1.33.2 in /usr/local/lib/python3.10/dist-packages (from google-api-core[grpc]!=2.0.*,!=2.1.*,!=2.10.*,!=2.2.*,!=2.3.*,!=2.4.*,!=2.5.*,!=2.6.*,!=2.7.*,!=2.8.*,!=2.9.*,<3.0.0dev,>=1.34.1->google-ai-generativelanguage==0.6.10->google.generativeai) (1.68.1)\n",
            "Requirement already satisfied: grpcio-status<2.0.dev0,>=1.33.2 in /usr/local/lib/python3.10/dist-packages (from google-api-core[grpc]!=2.0.*,!=2.1.*,!=2.10.*,!=2.2.*,!=2.3.*,!=2.4.*,!=2.5.*,!=2.6.*,!=2.7.*,!=2.8.*,!=2.9.*,<3.0.0dev,>=1.34.1->google-ai-generativelanguage==0.6.10->google.generativeai) (1.62.3)\n",
            "Requirement already satisfied: pyparsing!=3.0.0,!=3.0.1,!=3.0.2,!=3.0.3,<4,>=2.4.2 in /usr/local/lib/python3.10/dist-packages (from httplib2<1.dev0,>=0.19.0->google-api-python-client->google.generativeai) (3.2.0)\n",
            "Requirement already satisfied: pyasn1<0.7.0,>=0.4.6 in /usr/local/lib/python3.10/dist-packages (from pyasn1-modules>=0.2.1->google-auth>=2.15.0->google.generativeai) (0.6.1)\n",
            "Requirement already satisfied: charset-normalizer<4,>=2 in /usr/local/lib/python3.10/dist-packages (from requests<3.0.0.dev0,>=2.18.0->google-api-core->google.generativeai) (3.4.0)\n",
            "Requirement already satisfied: idna<4,>=2.5 in /usr/local/lib/python3.10/dist-packages (from requests<3.0.0.dev0,>=2.18.0->google-api-core->google.generativeai) (3.10)\n",
            "Requirement already satisfied: urllib3<3,>=1.21.1 in /usr/local/lib/python3.10/dist-packages (from requests<3.0.0.dev0,>=2.18.0->google-api-core->google.generativeai) (2.2.3)\n",
            "Requirement already satisfied: certifi>=2017.4.17 in /usr/local/lib/python3.10/dist-packages (from requests<3.0.0.dev0,>=2.18.0->google-api-core->google.generativeai) (2024.12.14)\n"
          ]
        }
      ]
    },
    {
      "cell_type": "code",
      "source": [
        "import google.generativeai as genai"
      ],
      "metadata": {
        "id": "83qs1c-z8n3J"
      },
      "execution_count": 10,
      "outputs": []
    },
    {
      "cell_type": "code",
      "source": [
        " genai.configure(api_key= API_KEY)"
      ],
      "metadata": {
        "id": "p5AZVtr09ZWH"
      },
      "execution_count": 11,
      "outputs": []
    },
    {
      "cell_type": "code",
      "source": [
        "Model = genai.GenerativeModel('gemini-1.5-flash-002')"
      ],
      "metadata": {
        "id": "HcLrj_YXB-tr"
      },
      "execution_count": null,
      "outputs": []
    },
    {
      "cell_type": "code",
      "source": [
        "response = Model.generate_content('''\n",
        "API\n",
        "SDK\n",
        "Web APIs\n",
        "Library APIs\n",
        "Prompting and Completion\n",
        " ''')"
      ],
      "metadata": {
        "id": "OGV5xfSXCinR"
      },
      "execution_count": 12,
      "outputs": []
    },
    {
      "cell_type": "code",
      "source": [
        "print(response.text)"
      ],
      "metadata": {
        "colab": {
          "base_uri": "https://localhost:8080/"
        },
        "id": "8uE6h2vPDome",
        "outputId": "2084dbf1-00d9-4206-85fc-7faad8683efe"
      },
      "execution_count": null,
      "outputs": [
        {
          "output_type": "stream",
          "name": "stdout",
          "text": [
            "Let's break down each of these terms related to software development and interaction:\n",
            "\n",
            "**1. API (Application Programming Interface):**\n",
            "\n",
            "* **Definition:** An API is a set of rules and specifications that software programs can follow to communicate and interact with each other.  It's essentially a contract defining how one piece of software can request services or data from another.  Think of it like a menu at a restaurant – you (your application) order from the menu (the API), and the kitchen (the service) prepares your meal (the data or functionality).\n",
            "* **Key Characteristics:**  APIs abstract away the underlying implementation details, allowing developers to use functionalities without needing to know how they're built. They usually involve requests and responses, often formatted in standard ways (e.g., JSON, XML).\n",
            "\n",
            "**2. SDK (Software Development Kit):**\n",
            "\n",
            "* **Definition:** An SDK is a collection of software development tools that are used to create applications for a specific platform or operating system.  It's usually more than just an API; it includes things like libraries, documentation, code samples, debugging tools, and other resources to help developers build applications.\n",
            "* **Key Characteristics:** SDKs provide a comprehensive environment for developing applications for a specific platform (e.g., Android SDK, iOS SDK, AWS SDK).  They significantly simplify the development process by providing pre-built components and tools.\n",
            "\n",
            "**3. Web APIs:**\n",
            "\n",
            "* **Definition:** A web API is a specific type of API that uses standard web protocols (like HTTP) to communicate over the internet.  These APIs typically use formats like JSON or XML to exchange data.  They're commonly used to build web and mobile applications that interact with online services.\n",
            "* **Key Characteristics:**  Web APIs are accessible remotely over the internet, making them extremely useful for building distributed applications.  Examples include REST APIs (Representational State Transfer) and GraphQL APIs.\n",
            "\n",
            "**4. Library APIs:**\n",
            "\n",
            "* **Definition:** Library APIs are APIs that provide a collection of pre-built functions and classes within a programming language or software library. These are not usually accessible remotely; instead, they are used internally within the application's code.\n",
            "* **Key Characteristics:** Library APIs allow developers to reuse code and avoid reinventing the wheel. They're focused on specific functionalities, such as mathematical operations, data structures, or graphical user interface elements.\n",
            "\n",
            "**5. Prompting and Completion:**\n",
            "\n",
            "* **Definition:** This term, heavily associated with Large Language Models (LLMs) like those used in ChatGPT, refers to the process of providing an input (the \"prompt\") to a model and receiving a generated output (the \"completion\"). The prompt can be a question, a statement, a task description, or any other form of text, and the model generates text designed to complete or answer the prompt.\n",
            "* **Key Characteristics:** This is a core interaction method for LLMs. The quality of the prompt significantly impacts the quality of the completion. The technique involves a back-and-forth exchange (often iterative) to refine the output.\n",
            "\n",
            "\n",
            "**In short:**  APIs are the interface, SDKs are the toolkit, Web APIs are APIs accessible over the web, Library APIs are internal APIs, and Prompting and Completion is an interaction style focused on language models.  They are all interconnected – an SDK might contain several APIs, including web APIs and library APIs, and an LLM often exposes its functionality through an API that uses a prompting and completion system.\n",
            "\n"
          ]
        }
      ]
    }
  ]
}