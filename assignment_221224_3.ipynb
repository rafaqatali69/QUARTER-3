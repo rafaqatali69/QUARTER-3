{
  "nbformat": 4,
  "nbformat_minor": 0,
  "metadata": {
    "colab": {
      "private_outputs": true,
      "provenance": [],
      "authorship_tag": "ABX9TyOpBHjCC+9yaEmai7+H4TJ5",
      "include_colab_link": true
    },
    "kernelspec": {
      "name": "python3",
      "display_name": "Python 3"
    },
    "language_info": {
      "name": "python"
    }
  },
  "cells": [
    {
      "cell_type": "markdown",
      "metadata": {
        "id": "view-in-github",
        "colab_type": "text"
      },
      "source": [
        "<a href=\"https://colab.research.google.com/github/rafaqatali69/QUARTER-3/blob/main/assignment_221224_3.ipynb\" target=\"_parent\"><img src=\"https://colab.research.google.com/assets/colab-badge.svg\" alt=\"Open In Colab\"/></a>"
      ]
    },
    {
      "cell_type": "code",
      "source": [
        "!pip install google-genai"
      ],
      "metadata": {
        "collapsed": true,
        "id": "VLIq0E5C0ixK"
      },
      "execution_count": null,
      "outputs": []
    },
    {
      "cell_type": "code",
      "source": [
        "!pip install --upgrade --quiet google-genai"
      ],
      "metadata": {
        "id": "4UmuaGeP0meY"
      },
      "execution_count": null,
      "outputs": []
    },
    {
      "cell_type": "code",
      "source": [
        "from google.colab import userdata\n",
        "GEMINI_API_KEY:str=userdata.get('GOOGLE_API_KEY')"
      ],
      "metadata": {
        "id": "XnSAaXXa2S_0"
      },
      "execution_count": null,
      "outputs": []
    },
    {
      "cell_type": "code",
      "source": [
        "from google import genai\n",
        "client = genai.Client(api_key=\"GEMINI_API_KEY\")\n",
        "if('GEMINI_API_KEY'):\n",
        "    print(\"KEY FOUND\")\n",
        "else:\n",
        "  print(\"KEY NOT FOUND\")\n",
        "\n"
      ],
      "metadata": {
        "id": "d8QGpkKD0ydY"
      },
      "execution_count": null,
      "outputs": []
    },
    {
      "cell_type": "code",
      "source": [
        "from google import genai\n",
        "from google.genai import client\n",
        "client:client=genai.Client(api_key=GEMINI_API_KEY)"
      ],
      "metadata": {
        "id": "DIkjsvtU7hQ8"
      },
      "execution_count": null,
      "outputs": []
    },
    {
      "cell_type": "code",
      "source": [
        "model:str=\"gemini-2.0-flash-exp\""
      ],
      "metadata": {
        "id": "lKZMObeB7q1o"
      },
      "execution_count": null,
      "outputs": []
    },
    {
      "cell_type": "code",
      "source": [
        "from google.genai.types import GenerateContentResponse\n",
        "Response: GenerateContentResponse = client.models.generate_content(\n",
        "    model=model,\n",
        "    contents='how does AI work'\n",
        ")\n",
        "print(Response.text)"
      ],
      "metadata": {
        "id": "-j1hFQg_8MlH"
      },
      "execution_count": null,
      "outputs": []
    },
    {
      "cell_type": "code",
      "source": [
        "response = client.models.generate_content(model='gemini-2.0-flash-exp', contents='How does AI work?')\n",
        "print(response.text)"
      ],
      "metadata": {
        "id": "hT0G8CYf3AU2"
      },
      "execution_count": null,
      "outputs": []
    }
  ]
}