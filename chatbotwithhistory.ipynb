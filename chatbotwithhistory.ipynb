{
  "nbformat": 4,
  "nbformat_minor": 0,
  "metadata": {
    "colab": {
      "private_outputs": true,
      "provenance": [],
      "authorship_tag": "ABX9TyP/MKq1N7H/JjggsbT3kxtx",
      "include_colab_link": true
    },
    "kernelspec": {
      "name": "python3",
      "display_name": "Python 3"
    },
    "language_info": {
      "name": "python"
    }
  },
  "cells": [
    {
      "cell_type": "markdown",
      "metadata": {
        "id": "view-in-github",
        "colab_type": "text"
      },
      "source": [
        "<a href=\"https://colab.research.google.com/github/rafaqatali69/QUARTER-3/blob/main/chatbotwithhistory.ipynb\" target=\"_parent\"><img src=\"https://colab.research.google.com/assets/colab-badge.svg\" alt=\"Open In Colab\"/></a>"
      ]
    },
    {
      "cell_type": "code",
      "execution_count": null,
      "metadata": {
        "id": "b2l0NJXoot0c"
      },
      "outputs": [],
      "source": [
        "from google.colab import userdata\n",
        "AP_KEY = userdata.get('GOOGLE_API_KEY')"
      ]
    },
    {
      "cell_type": "code",
      "source": [
        "import google.generativeai as genai\n",
        "genai.configure(api_key=AP_KEY)\n",
        "modle = genai.GenerativeModel('gemini-1.5-flash-002')"
      ],
      "metadata": {
        "id": "hWO5jsbTpThc"
      },
      "execution_count": null,
      "outputs": []
    },
    {
      "cell_type": "code",
      "source": [
        "chat = modle.start_chat(history=[])\n",
        "response = chat.send_message(\"\"\"What know about k-2 mountain in pakistan \"\"\")\n",
        "print(response.text)"
      ],
      "metadata": {
        "id": "8cZJE0fLqmVE"
      },
      "execution_count": null,
      "outputs": []
    },
    {
      "cell_type": "code",
      "source": [
        "print(chat.history)"
      ],
      "metadata": {
        "id": "55sLmG1MrpJB"
      },
      "execution_count": null,
      "outputs": []
    },
    {
      "cell_type": "code",
      "source": [
        "response=chat.send_message(\"\"\"Is there any age restriction to submit this peak\"\"\")\n",
        "print(response.text)"
      ],
      "metadata": {
        "id": "5aAt4CRuwJ9f"
      },
      "execution_count": null,
      "outputs": []
    }
  ]
}